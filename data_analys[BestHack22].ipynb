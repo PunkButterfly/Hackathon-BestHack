{
  "nbformat": 4,
  "nbformat_minor": 0,
  "metadata": {
    "colab": {
      "name": "data_analys[BestHack22].ipynb",
      "provenance": [],
      "collapsed_sections": []
    },
    "kernelspec": {
      "name": "python3",
      "display_name": "Python 3"
    },
    "language_info": {
      "name": "python"
    }
  },
  "cells": [
    {
      "cell_type": "markdown",
      "source": [
        "Мы работали на Google Colab. Чтобы каждый раз вручную не загружать файлы в рабочее пространство, мы загразили файлы на диск, поэтому нужно его подключить."
      ],
      "metadata": {
        "id": "kT7PHd4jffLO"
      }
    },
    {
      "cell_type": "code",
      "execution_count": 1,
      "metadata": {
        "colab": {
          "base_uri": "https://localhost:8080/"
        },
        "id": "czxpmvDN1G0D",
        "outputId": "fe8b72c0-9cc1-411a-f916-7127cf0257a2"
      },
      "outputs": [
        {
          "output_type": "stream",
          "name": "stdout",
          "text": [
            "Mounted at /content/drive\n"
          ]
        }
      ],
      "source": [
        "from google.colab import drive\n",
        "drive.mount('/content/drive')"
      ]
    },
    {
      "cell_type": "code",
      "source": [
        "import numpy as np\n",
        "import pandas as pd\n",
        "from sklearn.model_selection import train_test_split"
      ],
      "metadata": {
        "id": "LLchNzuJ1NEk"
      },
      "execution_count": 2,
      "outputs": []
    },
    {
      "cell_type": "code",
      "source": [
        "test = pd.read_excel('/content/drive/MyDrive/Test_unlabled.xlsx')\n",
        "df = pd.read_excel('/content/drive/MyDrive/Train_labled.xlsx')"
      ],
      "metadata": {
        "id": "6cENMU1Y1N2T"
      },
      "execution_count": 3,
      "outputs": []
    },
    {
      "cell_type": "markdown",
      "source": [
        "# Проанализируем данные"
      ],
      "metadata": {
        "id": "1YLGS2th1YsF"
      }
    },
    {
      "cell_type": "markdown",
      "source": [
        "Диаграмма количества NaN"
      ],
      "metadata": {
        "id": "o9oRJNEw6si9"
      }
    },
    {
      "cell_type": "code",
      "source": [
        "import matplotlib.pyplot as plt\n",
        "plt.bar(df.isna().sum().index, df.isna().sum().values)\n",
        "plt.show()"
      ],
      "metadata": {
        "id": "fZ8AAA836sjA",
        "colab": {
          "base_uri": "https://localhost:8080/",
          "height": 265
        },
        "outputId": "6cb10b2d-2d1e-4d7b-88e5-4aab6dff9983"
      },
      "execution_count": 4,
      "outputs": [
        {
          "output_type": "display_data",
          "data": {
            "text/plain": [
              "<Figure size 432x288 with 1 Axes>"
            ],
            "image/png": "[encoded data removed]"
          },
          "metadata": {
            "needs_background": "light"
          }
        }
      ]
    },
    {
      "cell_type": "code",
      "source": [
        "plt.bar(df['Текущий прогноз'].unique(), df['Текущий прогноз'].value_counts())\n",
        "plt.show()"
      ],
      "metadata": {
        "colab": {
          "base_uri": "https://localhost:8080/",
          "height": 265
        },
        "id": "4KlQsLYAvdG9",
        "outputId": "f67ad590-33fa-43d1-bfc2-3d3a81c09d24"
      },
      "execution_count": 5,
      "outputs": [
        {
          "output_type": "display_data",
          "data": {
            "text/plain": [
              "<Figure size 432x288 with 1 Axes>"
            ],
            "image/png": "[encoded data removed]"
          },
          "metadata": {
            "needs_background": "light"
          }
        }
      ]
    },
    {
      "cell_type": "code",
      "source": [
        "plt.pie(df['Текущий прогноз'].value_counts())"
      ],
      "metadata": {
        "colab": {
          "base_uri": "https://localhost:8080/",
          "height": 350
        },
        "id": "P6t7QXFWv9-n",
        "outputId": "7866c793-510b-4ba6-c4ef-7ed3706777df"
      },
      "execution_count": 6,
      "outputs": [
        {
          "output_type": "execute_result",
          "data": {
            "text/plain": [
              "([<matplotlib.patches.Wedge at 0x7f16978096d0>,\n",
              "  <matplotlib.patches.Wedge at 0x7f1697809b90>,\n",
              "  <matplotlib.patches.Wedge at 0x7f1697816190>],\n",
              " [Text(-0.48327404014581876, 0.9881529244611573, ''),\n",
              "  Text(0.24477321382259096, -1.072420660839281, ''),\n",
              "  Text(1.0709165255480224, -0.2512723528527406, '')])"
            ]
          },
          "metadata": {},
          "execution_count": 6
        },
        {
          "output_type": "display_data",
          "data": {
            "text/plain": [
              "<Figure size 432x288 with 1 Axes>"
            ],
            "image/png": "[encoded data removed]"
          },
          "metadata": {}
        }
      ]
    },
    {
      "cell_type": "markdown",
      "source": [
        "## Посчитаем корреляцию столбцов с таргетом"
      ],
      "metadata": {
        "id": "CqpbtTdupZUP"
      }
    },
    {
      "cell_type": "code",
      "source": [
        "def correlate_cols_with_target(df, target):\n",
        "  \"\"\"Функция, возвращающая корреляцию каждого столбца из df со столбцом target\"\"\"\n",
        "  corr = df.corr()[target]\n",
        "  corr.sort_values()\n",
        "  corr_df = pd.DataFrame(corr.sort_values())\n",
        "  return corr_df"
      ],
      "metadata": {
        "id": "c8fdD2OnoWz5"
      },
      "execution_count": 7,
      "outputs": []
    },
    {
      "cell_type": "code",
      "source": [
        "correlate_cols_with_target(df, 'Текущий прогноз').head(10)"
      ],
      "metadata": {
        "colab": {
          "base_uri": "https://localhost:8080/",
          "height": 359
        },
        "id": "vM9yDW4CpKDh",
        "outputId": "98eb0e5f-eb2a-4971-d8f9-7fe90ee6b01f"
      },
      "execution_count": 8,
      "outputs": [
        {
          "output_type": "execute_result",
          "data": {
            "text/plain": [
              "                          Текущий прогноз\n",
              "стадия ХПН                      -0.495264\n",
              "Лечение рецидива                -0.475688\n",
              "Ишемия да-нет                   -0.427281\n",
              "гемостатическая губка           -0.410592\n",
              "Longitudinal                    -0.400485\n",
              "ХПН                             -0.367882\n",
              "Доступ первой резекции.1        -0.355598\n",
              "Доступ первой резекции          -0.355598\n",
              "кисты                           -0.347374\n",
              "Стадия                          -0.337570"
            ],
            "text/html": [
              "\n",
              "  <div id=\"df-7e4f4731-ca20-41e3-956f-f1d6ce4427af\">\n",
              "    <div class=\"colab-df-container\">\n",
              "      <div>\n",
              "<style scoped>\n",
              "    .dataframe tbody tr th:only-of-type {\n",
              "        vertical-align: middle;\n",
              "    }\n",
              "\n",
              "    .dataframe tbody tr th {\n",
              "        vertical-align: top;\n",
              "    }\n",
              "\n",
              "    .dataframe thead th {\n",
              "        text-align: right;\n",
              "    }\n",
              "</style>\n",
              "<table border=\"1\" class=\"dataframe\">\n",
              "  <thead>\n",
              "    <tr style=\"text-align: right;\">\n",
              "      <th></th>\n",
              "      <th>Текущий прогноз</th>\n",
              "    </tr>\n",
              "  </thead>\n",
              "  <tbody>\n",
              "    <tr>\n",
              "      <th>стадия ХПН</th>\n",
              "      <td>-0.495264</td>\n",
              "    </tr>\n",
              "    <tr>\n",
              "      <th>Лечение рецидива</th>\n",
              "      <td>-0.475688</td>\n",
              "    </tr>\n",
              "    <tr>\n",
              "      <th>Ишемия да-нет</th>\n",
              "      <td>-0.427281</td>\n",
              "    </tr>\n",
              "    <tr>\n",
              "      <th>гемостатическая губка</th>\n",
              "      <td>-0.410592</td>\n",
              "    </tr>\n",
              "    <tr>\n",
              "      <th>Longitudinal</th>\n",
              "      <td>-0.400485</td>\n",
              "    </tr>\n",
              "    <tr>\n",
              "      <th>ХПН</th>\n",
              "      <td>-0.367882</td>\n",
              "    </tr>\n",
              "    <tr>\n",
              "      <th>Доступ первой резекции.1</th>\n",
              "      <td>-0.355598</td>\n",
              "    </tr>\n",
              "    <tr>\n",
              "      <th>Доступ первой резекции</th>\n",
              "      <td>-0.355598</td>\n",
              "    </tr>\n",
              "    <tr>\n",
              "      <th>кисты</th>\n",
              "      <td>-0.347374</td>\n",
              "    </tr>\n",
              "    <tr>\n",
              "      <th>Стадия</th>\n",
              "      <td>-0.337570</td>\n",
              "    </tr>\n",
              "  </tbody>\n",
              "</table>\n",
              "</div>\n",
              "      <button class=\"colab-df-convert\" onclick=\"convertToInteractive('df-7e4f4731-ca20-41e3-956f-f1d6ce4427af')\"\n",
              "              title=\"Convert this dataframe to an interactive table.\"\n",
              "              style=\"display:none;\">\n",
              "        \n",
              "  <svg xmlns=\"http://www.w3.org/2000/svg\" height=\"24px\"viewBox=\"0 0 24 24\"\n",
              "       width=\"24px\">\n",
              "    <path d=\"M0 0h24v24H0V0z\" fill=\"none\"/>\n",
              "    <path d=\"M18.56 5.44l.94 2.06.94-2.06 2.06-.94-2.06-.94-.94-2.06-.94 2.06-2.06.94zm-11 1L8.5 8.5l.94-2.06 2.06-.94-2.06-.94L8.5 2.5l-.94 2.06-2.06.94zm10 10l.94 2.06.94-2.06 2.06-.94-2.06-.94-.94-2.06-.94 2.06-2.06.94z\"/><path d=\"M17.41 7.96l-1.37-1.37c-.4-.4-.92-.59-1.43-.59-.52 0-1.04.2-1.43.59L10.3 9.45l-7.72 7.72c-.78.78-.78 2.05 0 2.83L4 21.41c.39.39.9.59 1.41.59.51 0 1.02-.2 1.41-.59l7.78-7.78 2.81-2.81c.8-.78.8-2.07 0-2.86zM5.41 20L4 18.59l7.72-7.72 1.47 1.35L5.41 20z\"/>\n",
              "  </svg>\n",
              "      </button>\n",
              "      \n",
              "  <style>\n",
              "    .colab-df-container {\n",
              "      display:flex;\n",
              "      flex-wrap:wrap;\n",
              "      gap: 12px;\n",
              "    }\n",
              "\n",
              "    .colab-df-convert {\n",
              "      background-color: #E8F0FE;\n",
              "      border: none;\n",
              "      border-radius: 50%;\n",
              "      cursor: pointer;\n",
              "      display: none;\n",
              "      fill: #1967D2;\n",
              "      height: 32px;\n",
              "      padding: 0 0 0 0;\n",
              "      width: 32px;\n",
              "    }\n",
              "\n",
              "    .colab-df-convert:hover {\n",
              "      background-color: #E2EBFA;\n",
              "      box-shadow: 0px 1px 2px rgba(60, 64, 67, 0.3), 0px 1px 3px 1px rgba(60, 64, 67, 0.15);\n",
              "      fill: #174EA6;\n",
              "    }\n",
              "\n",
              "    [theme=dark] .colab-df-convert {\n",
              "      background-color: #3B4455;\n",
              "      fill: #D2E3FC;\n",
              "    }\n",
              "\n",
              "    [theme=dark] .colab-df-convert:hover {\n",
              "      background-color: #434B5C;\n",
              "      box-shadow: 0px 1px 3px 1px rgba(0, 0, 0, 0.15);\n",
              "      filter: drop-shadow(0px 1px 2px rgba(0, 0, 0, 0.3));\n",
              "      fill: #FFFFFF;\n",
              "    }\n",
              "  </style>\n",
              "\n",
              "      <script>\n",
              "        const buttonEl =\n",
              "          document.querySelector('#df-7e4f4731-ca20-41e3-956f-f1d6ce4427af button.colab-df-convert');\n",
              "        buttonEl.style.display =\n",
              "          google.colab.kernel.accessAllowed ? 'block' : 'none';\n",
              "\n",
              "        async function convertToInteractive(key) {\n",
              "          const element = document.querySelector('#df-7e4f4731-ca20-41e3-956f-f1d6ce4427af');\n",
              "          const dataTable =\n",
              "            await google.colab.kernel.invokeFunction('convertToInteractive',\n",
              "                                                     [key], {});\n",
              "          if (!dataTable) return;\n",
              "\n",
              "          const docLinkHtml = 'Like what you see? Visit the ' +\n",
              "            '<a target=\"_blank\" href=https://colab.research.google.com/notebooks/data_table.ipynb>data table notebook</a>'\n",
              "            + ' to learn more about interactive tables.';\n",
              "          element.innerHTML = '';\n",
              "          dataTable['output_type'] = 'display_data';\n",
              "          await google.colab.output.renderOutput(dataTable, element);\n",
              "          const docLink = document.createElement('div');\n",
              "          docLink.innerHTML = docLinkHtml;\n",
              "          element.appendChild(docLink);\n",
              "        }\n",
              "      </script>\n",
              "    </div>\n",
              "  </div>\n",
              "  "
            ]
          },
          "metadata": {},
          "execution_count": 8
        }
      ]
    },
    {
      "cell_type": "code",
      "source": [
        "correlate_cols_with_target(df, 'Текущий прогноз').tail(10)"
      ],
      "metadata": {
        "colab": {
          "base_uri": "https://localhost:8080/",
          "height": 359
        },
        "id": "l_m9vNRvq1TD",
        "outputId": "5356facf-1843-452c-e486-7a76b7156f89"
      },
      "execution_count": 9,
      "outputs": [
        {
          "output_type": "execute_result",
          "data": {
            "text/plain": [
              "                                            Текущий прогноз\n",
              "Швы через толщу паренхимы                          0.376047\n",
              "Сохранение резецированной почки длительное         0.476448\n",
              "Время операции                                     0.580031\n",
              "эффект лечения рецидива                            0.628429\n",
              "Рецидив                                            0.746358\n",
              "Текущий прогноз                                    1.000000\n",
              "рN                                                      NaN\n",
              "M                                                       NaN\n",
              "K+ max                                                  NaN\n",
              "эффект                                                  NaN"
            ],
            "text/html": [
              "\n",
              "  <div id=\"df-2604470a-782e-495b-9fc5-fe32e648390a\">\n",
              "    <div class=\"colab-df-container\">\n",
              "      <div>\n",
              "<style scoped>\n",
              "    .dataframe tbody tr th:only-of-type {\n",
              "        vertical-align: middle;\n",
              "    }\n",
              "\n",
              "    .dataframe tbody tr th {\n",
              "        vertical-align: top;\n",
              "    }\n",
              "\n",
              "    .dataframe thead th {\n",
              "        text-align: right;\n",
              "    }\n",
              "</style>\n",
              "<table border=\"1\" class=\"dataframe\">\n",
              "  <thead>\n",
              "    <tr style=\"text-align: right;\">\n",
              "      <th></th>\n",
              "      <th>Текущий прогноз</th>\n",
              "    </tr>\n",
              "  </thead>\n",
              "  <tbody>\n",
              "    <tr>\n",
              "      <th>Швы через толщу паренхимы</th>\n",
              "      <td>0.376047</td>\n",
              "    </tr>\n",
              "    <tr>\n",
              "      <th>Сохранение резецированной почки длительное</th>\n",
              "      <td>0.476448</td>\n",
              "    </tr>\n",
              "    <tr>\n",
              "      <th>Время операции</th>\n",
              "      <td>0.580031</td>\n",
              "    </tr>\n",
              "    <tr>\n",
              "      <th>эффект лечения рецидива</th>\n",
              "      <td>0.628429</td>\n",
              "    </tr>\n",
              "    <tr>\n",
              "      <th>Рецидив</th>\n",
              "      <td>0.746358</td>\n",
              "    </tr>\n",
              "    <tr>\n",
              "      <th>Текущий прогноз</th>\n",
              "      <td>1.000000</td>\n",
              "    </tr>\n",
              "    <tr>\n",
              "      <th>рN</th>\n",
              "      <td>NaN</td>\n",
              "    </tr>\n",
              "    <tr>\n",
              "      <th>M</th>\n",
              "      <td>NaN</td>\n",
              "    </tr>\n",
              "    <tr>\n",
              "      <th>K+ max</th>\n",
              "      <td>NaN</td>\n",
              "    </tr>\n",
              "    <tr>\n",
              "      <th>эффект</th>\n",
              "      <td>NaN</td>\n",
              "    </tr>\n",
              "  </tbody>\n",
              "</table>\n",
              "</div>\n",
              "      <button class=\"colab-df-convert\" onclick=\"convertToInteractive('df-2604470a-782e-495b-9fc5-fe32e648390a')\"\n",
              "              title=\"Convert this dataframe to an interactive table.\"\n",
              "              style=\"display:none;\">\n",
              "        \n",
              "  <svg xmlns=\"http://www.w3.org/2000/svg\" height=\"24px\"viewBox=\"0 0 24 24\"\n",
              "       width=\"24px\">\n",
              "    <path d=\"M0 0h24v24H0V0z\" fill=\"none\"/>\n",
              "    <path d=\"M18.56 5.44l.94 2.06.94-2.06 2.06-.94-2.06-.94-.94-2.06-.94 2.06-2.06.94zm-11 1L8.5 8.5l.94-2.06 2.06-.94-2.06-.94L8.5 2.5l-.94 2.06-2.06.94zm10 10l.94 2.06.94-2.06 2.06-.94-2.06-.94-.94-2.06-.94 2.06-2.06.94z\"/><path d=\"M17.41 7.96l-1.37-1.37c-.4-.4-.92-.59-1.43-.59-.52 0-1.04.2-1.43.59L10.3 9.45l-7.72 7.72c-.78.78-.78 2.05 0 2.83L4 21.41c.39.39.9.59 1.41.59.51 0 1.02-.2 1.41-.59l7.78-7.78 2.81-2.81c.8-.78.8-2.07 0-2.86zM5.41 20L4 18.59l7.72-7.72 1.47 1.35L5.41 20z\"/>\n",
              "  </svg>\n",
              "      </button>\n",
              "      \n",
              "  <style>\n",
              "    .colab-df-container {\n",
              "      display:flex;\n",
              "      flex-wrap:wrap;\n",
              "      gap: 12px;\n",
              "    }\n",
              "\n",
              "    .colab-df-convert {\n",
              "      background-color: #E8F0FE;\n",
              "      border: none;\n",
              "      border-radius: 50%;\n",
              "      cursor: pointer;\n",
              "      display: none;\n",
              "      fill: #1967D2;\n",
              "      height: 32px;\n",
              "      padding: 0 0 0 0;\n",
              "      width: 32px;\n",
              "    }\n",
              "\n",
              "    .colab-df-convert:hover {\n",
              "      background-color: #E2EBFA;\n",
              "      box-shadow: 0px 1px 2px rgba(60, 64, 67, 0.3), 0px 1px 3px 1px rgba(60, 64, 67, 0.15);\n",
              "      fill: #174EA6;\n",
              "    }\n",
              "\n",
              "    [theme=dark] .colab-df-convert {\n",
              "      background-color: #3B4455;\n",
              "      fill: #D2E3FC;\n",
              "    }\n",
              "\n",
              "    [theme=dark] .colab-df-convert:hover {\n",
              "      background-color: #434B5C;\n",
              "      box-shadow: 0px 1px 3px 1px rgba(0, 0, 0, 0.15);\n",
              "      filter: drop-shadow(0px 1px 2px rgba(0, 0, 0, 0.3));\n",
              "      fill: #FFFFFF;\n",
              "    }\n",
              "  </style>\n",
              "\n",
              "      <script>\n",
              "        const buttonEl =\n",
              "          document.querySelector('#df-2604470a-782e-495b-9fc5-fe32e648390a button.colab-df-convert');\n",
              "        buttonEl.style.display =\n",
              "          google.colab.kernel.accessAllowed ? 'block' : 'none';\n",
              "\n",
              "        async function convertToInteractive(key) {\n",
              "          const element = document.querySelector('#df-2604470a-782e-495b-9fc5-fe32e648390a');\n",
              "          const dataTable =\n",
              "            await google.colab.kernel.invokeFunction('convertToInteractive',\n",
              "                                                     [key], {});\n",
              "          if (!dataTable) return;\n",
              "\n",
              "          const docLinkHtml = 'Like what you see? Visit the ' +\n",
              "            '<a target=\"_blank\" href=https://colab.research.google.com/notebooks/data_table.ipynb>data table notebook</a>'\n",
              "            + ' to learn more about interactive tables.';\n",
              "          element.innerHTML = '';\n",
              "          dataTable['output_type'] = 'display_data';\n",
              "          await google.colab.output.renderOutput(dataTable, element);\n",
              "          const docLink = document.createElement('div');\n",
              "          docLink.innerHTML = docLinkHtml;\n",
              "          element.appendChild(docLink);\n",
              "        }\n",
              "      </script>\n",
              "    </div>\n",
              "  </div>\n",
              "  "
            ]
          },
          "metadata": {},
          "execution_count": 9
        }
      ]
    },
    {
      "cell_type": "markdown",
      "source": [
        "## Обработка данных и устранение ошибок в датасете"
      ],
      "metadata": {
        "id": "ulAxO6JfA0Oo"
      }
    },
    {
      "cell_type": "markdown",
      "source": [
        "* рN удаляем, т.к значения слишком одинаковые(243 нуля и 16 nan)\n",
        "* M - удаляем, то же самое что pN\n",
        "* K+ max - удаляем, т.к много нанов\n",
        "* эффект - удаляем, т.к значения везде одинаковые"
      ],
      "metadata": {
        "id": "dGOWdstdpt7x"
      }
    },
    {
      "cell_type": "code",
      "source": [
        "df = df.drop(['рN', 'M','K+ max', 'эффект'], axis = 1) #удаляем столбцы, у которых корреляция NaN"
      ],
      "metadata": {
        "id": "BSRe91s0HRIz"
      },
      "execution_count": 10,
      "outputs": []
    },
    {
      "cell_type": "markdown",
      "source": [
        "Столкнулись с интересной особенностью: в некоторых строках, где рецидива не было, его лечили. Видимо это ошибка в датасете, причем ошибка именно в поле 'Рецидив', т.к тяжело ошибиться в последующих 5-ти колонках одновременно."
      ],
      "metadata": {
        "id": "qfXv8YEGp6ZB"
      }
    },
    {
      "cell_type": "code",
      "source": [
        "df.loc[(~np.isnan(df['вид рецидива'])), 'Рецидив'] = 1 # если лечили, но рецидива нет, то рецидив есть"
      ],
      "metadata": {
        "id": "Ae5Abk8J_SLm"
      },
      "execution_count": 11,
      "outputs": []
    },
    {
      "cell_type": "code",
      "source": [
        "recedive_cols = ['вид рецидива', 'мтс', 'местный', 'Лечение рецидива',\n",
        "        'системное лечение', 'эффект лечения рецидива']\n",
        "df.loc[df['Рецидив'] == 0, recedive_cols] = -1 #заполняем nan в столбцах рецидива"
      ],
      "metadata": {
        "id": "2u1XHZq479Tf"
      },
      "execution_count": 12,
      "outputs": []
    },
    {
      "cell_type": "code",
      "source": [
        "df['Время операции'] = df['Время операции'].fillna(0) # если операции не было, то время операции = 0"
      ],
      "metadata": {
        "id": "6uA1P4kGIOTH"
      },
      "execution_count": 13,
      "outputs": []
    },
    {
      "cell_type": "code",
      "source": [
        "df['диурез, сутки'] = df['диурез, сутки'].fillna(0)\n",
        "df['Диурез более 2к/сутки'] = (df['диурез, сутки'] >= 2000).astype(int) # добавляем новую фич"
      ],
      "metadata": {
        "id": "J7ypbzCkzJ6f"
      },
      "execution_count": 14,
      "outputs": []
    },
    {
      "cell_type": "markdown",
      "source": [
        "## Строим корреляцию с изменёнными столбцами"
      ],
      "metadata": {
        "id": "CM02v00B7mzn"
      }
    },
    {
      "cell_type": "code",
      "source": [
        "correlate_cols_with_target(df, 'Текущий прогноз').head(15)"
      ],
      "metadata": {
        "colab": {
          "base_uri": "https://localhost:8080/",
          "height": 514
        },
        "id": "gUj9mpRnr4QT",
        "outputId": "e6175264-65d0-4df2-a51d-a8b84f94f6f7"
      },
      "execution_count": 15,
      "outputs": [
        {
          "output_type": "execute_result",
          "data": {
            "text/plain": [
              "                             Текущий прогноз\n",
              "стадия ХПН                         -0.495264\n",
              "Ишемия да-нет                      -0.427281\n",
              "гемостатическая губка              -0.410592\n",
              "Longitudinal                       -0.400485\n",
              "ХПН                                -0.367882\n",
              "Доступ первой резекции.1           -0.355598\n",
              "Доступ первой резекции             -0.355598\n",
              "кисты                              -0.347374\n",
              "Стадия                             -0.337570\n",
              "Ушивание мелких сосудов            -0.321842\n",
              "Лазикс                             -0.306765\n",
              "BE во время операции               -0.296962\n",
              "ОПН                                -0.291379\n",
              "Исходный клиренс креатинина        -0.278400\n",
              "СКФ снижение на 25-50-75%          -0.247829"
            ],
            "text/html": [
              "\n",
              "  <div id=\"df-bd11507e-15de-48c6-9b1e-b0c87c0c6d1c\">\n",
              "    <div class=\"colab-df-container\">\n",
              "      <div>\n",
              "<style scoped>\n",
              "    .dataframe tbody tr th:only-of-type {\n",
              "        vertical-align: middle;\n",
              "    }\n",
              "\n",
              "    .dataframe tbody tr th {\n",
              "        vertical-align: top;\n",
              "    }\n",
              "\n",
              "    .dataframe thead th {\n",
              "        text-align: right;\n",
              "    }\n",
              "</style>\n",
              "<table border=\"1\" class=\"dataframe\">\n",
              "  <thead>\n",
              "    <tr style=\"text-align: right;\">\n",
              "      <th></th>\n",
              "      <th>Текущий прогноз</th>\n",
              "    </tr>\n",
              "  </thead>\n",
              "  <tbody>\n",
              "    <tr>\n",
              "      <th>стадия ХПН</th>\n",
              "      <td>-0.495264</td>\n",
              "    </tr>\n",
              "    <tr>\n",
              "      <th>Ишемия да-нет</th>\n",
              "      <td>-0.427281</td>\n",
              "    </tr>\n",
              "    <tr>\n",
              "      <th>гемостатическая губка</th>\n",
              "      <td>-0.410592</td>\n",
              "    </tr>\n",
              "    <tr>\n",
              "      <th>Longitudinal</th>\n",
              "      <td>-0.400485</td>\n",
              "    </tr>\n",
              "    <tr>\n",
              "      <th>ХПН</th>\n",
              "      <td>-0.367882</td>\n",
              "    </tr>\n",
              "    <tr>\n",
              "      <th>Доступ первой резекции.1</th>\n",
              "      <td>-0.355598</td>\n",
              "    </tr>\n",
              "    <tr>\n",
              "      <th>Доступ первой резекции</th>\n",
              "      <td>-0.355598</td>\n",
              "    </tr>\n",
              "    <tr>\n",
              "      <th>кисты</th>\n",
              "      <td>-0.347374</td>\n",
              "    </tr>\n",
              "    <tr>\n",
              "      <th>Стадия</th>\n",
              "      <td>-0.337570</td>\n",
              "    </tr>\n",
              "    <tr>\n",
              "      <th>Ушивание мелких сосудов</th>\n",
              "      <td>-0.321842</td>\n",
              "    </tr>\n",
              "    <tr>\n",
              "      <th>Лазикс</th>\n",
              "      <td>-0.306765</td>\n",
              "    </tr>\n",
              "    <tr>\n",
              "      <th>BE во время операции</th>\n",
              "      <td>-0.296962</td>\n",
              "    </tr>\n",
              "    <tr>\n",
              "      <th>ОПН</th>\n",
              "      <td>-0.291379</td>\n",
              "    </tr>\n",
              "    <tr>\n",
              "      <th>Исходный клиренс креатинина</th>\n",
              "      <td>-0.278400</td>\n",
              "    </tr>\n",
              "    <tr>\n",
              "      <th>СКФ снижение на 25-50-75%</th>\n",
              "      <td>-0.247829</td>\n",
              "    </tr>\n",
              "  </tbody>\n",
              "</table>\n",
              "</div>\n",
              "      <button class=\"colab-df-convert\" onclick=\"convertToInteractive('df-bd11507e-15de-48c6-9b1e-b0c87c0c6d1c')\"\n",
              "              title=\"Convert this dataframe to an interactive table.\"\n",
              "              style=\"display:none;\">\n",
              "        \n",
              "  <svg xmlns=\"http://www.w3.org/2000/svg\" height=\"24px\"viewBox=\"0 0 24 24\"\n",
              "       width=\"24px\">\n",
              "    <path d=\"M0 0h24v24H0V0z\" fill=\"none\"/>\n",
              "    <path d=\"M18.56 5.44l.94 2.06.94-2.06 2.06-.94-2.06-.94-.94-2.06-.94 2.06-2.06.94zm-11 1L8.5 8.5l.94-2.06 2.06-.94-2.06-.94L8.5 2.5l-.94 2.06-2.06.94zm10 10l.94 2.06.94-2.06 2.06-.94-2.06-.94-.94-2.06-.94 2.06-2.06.94z\"/><path d=\"M17.41 7.96l-1.37-1.37c-.4-.4-.92-.59-1.43-.59-.52 0-1.04.2-1.43.59L10.3 9.45l-7.72 7.72c-.78.78-.78 2.05 0 2.83L4 21.41c.39.39.9.59 1.41.59.51 0 1.02-.2 1.41-.59l7.78-7.78 2.81-2.81c.8-.78.8-2.07 0-2.86zM5.41 20L4 18.59l7.72-7.72 1.47 1.35L5.41 20z\"/>\n",
              "  </svg>\n",
              "      </button>\n",
              "      \n",
              "  <style>\n",
              "    .colab-df-container {\n",
              "      display:flex;\n",
              "      flex-wrap:wrap;\n",
              "      gap: 12px;\n",
              "    }\n",
              "\n",
              "    .colab-df-convert {\n",
              "      background-color: #E8F0FE;\n",
              "      border: none;\n",
              "      border-radius: 50%;\n",
              "      cursor: pointer;\n",
              "      display: none;\n",
              "      fill: #1967D2;\n",
              "      height: 32px;\n",
              "      padding: 0 0 0 0;\n",
              "      width: 32px;\n",
              "    }\n",
              "\n",
              "    .colab-df-convert:hover {\n",
              "      background-color: #E2EBFA;\n",
              "      box-shadow: 0px 1px 2px rgba(60, 64, 67, 0.3), 0px 1px 3px 1px rgba(60, 64, 67, 0.15);\n",
              "      fill: #174EA6;\n",
              "    }\n",
              "\n",
              "    [theme=dark] .colab-df-convert {\n",
              "      background-color: #3B4455;\n",
              "      fill: #D2E3FC;\n",
              "    }\n",
              "\n",
              "    [theme=dark] .colab-df-convert:hover {\n",
              "      background-color: #434B5C;\n",
              "      box-shadow: 0px 1px 3px 1px rgba(0, 0, 0, 0.15);\n",
              "      filter: drop-shadow(0px 1px 2px rgba(0, 0, 0, 0.3));\n",
              "      fill: #FFFFFF;\n",
              "    }\n",
              "  </style>\n",
              "\n",
              "      <script>\n",
              "        const buttonEl =\n",
              "          document.querySelector('#df-bd11507e-15de-48c6-9b1e-b0c87c0c6d1c button.colab-df-convert');\n",
              "        buttonEl.style.display =\n",
              "          google.colab.kernel.accessAllowed ? 'block' : 'none';\n",
              "\n",
              "        async function convertToInteractive(key) {\n",
              "          const element = document.querySelector('#df-bd11507e-15de-48c6-9b1e-b0c87c0c6d1c');\n",
              "          const dataTable =\n",
              "            await google.colab.kernel.invokeFunction('convertToInteractive',\n",
              "                                                     [key], {});\n",
              "          if (!dataTable) return;\n",
              "\n",
              "          const docLinkHtml = 'Like what you see? Visit the ' +\n",
              "            '<a target=\"_blank\" href=https://colab.research.google.com/notebooks/data_table.ipynb>data table notebook</a>'\n",
              "            + ' to learn more about interactive tables.';\n",
              "          element.innerHTML = '';\n",
              "          dataTable['output_type'] = 'display_data';\n",
              "          await google.colab.output.renderOutput(dataTable, element);\n",
              "          const docLink = document.createElement('div');\n",
              "          docLink.innerHTML = docLinkHtml;\n",
              "          element.appendChild(docLink);\n",
              "        }\n",
              "      </script>\n",
              "    </div>\n",
              "  </div>\n",
              "  "
            ]
          },
          "metadata": {},
          "execution_count": 15
        }
      ]
    },
    {
      "cell_type": "code",
      "source": [
        "correlate_cols_with_target(df, 'Текущий прогноз').tail(15)"
      ],
      "metadata": {
        "id": "07rm0My57pjz",
        "colab": {
          "base_uri": "https://localhost:8080/",
          "height": 514
        },
        "outputId": "be574fb6-55bd-4e10-d5ca-4a9030e8cc1e"
      },
      "execution_count": 16,
      "outputs": [
        {
          "output_type": "execute_result",
          "data": {
            "text/plain": [
              "                                            Текущий прогноз\n",
              "Единственная почка не из-за рака                   0.242042\n",
              "Sinus                                              0.249855\n",
              "темп диуреза, мл/кг/ч                              0.252779\n",
              "Срочная гистология                                 0.344556\n",
              "Диурез более 2к/сутки                              0.369320\n",
              "Швы через толщу паренхимы                          0.376047\n",
              "Сохранение резецированной почки длительное         0.476448\n",
              "Лечение рецидива                                   0.802374\n",
              "мтс                                                0.838403\n",
              "эффект лечения рецидива                            0.845464\n",
              "системное лечение                                  0.851742\n",
              "вид рецидива                                       0.855215\n",
              "местный                                            0.881270\n",
              "Рецидив                                            0.887012\n",
              "Текущий прогноз                                    1.000000"
            ],
            "text/html": [
              "\n",
              "  <div id=\"df-7af15fed-e57b-4169-8952-7301f163bc6f\">\n",
              "    <div class=\"colab-df-container\">\n",
              "      <div>\n",
              "<style scoped>\n",
              "    .dataframe tbody tr th:only-of-type {\n",
              "        vertical-align: middle;\n",
              "    }\n",
              "\n",
              "    .dataframe tbody tr th {\n",
              "        vertical-align: top;\n",
              "    }\n",
              "\n",
              "    .dataframe thead th {\n",
              "        text-align: right;\n",
              "    }\n",
              "</style>\n",
              "<table border=\"1\" class=\"dataframe\">\n",
              "  <thead>\n",
              "    <tr style=\"text-align: right;\">\n",
              "      <th></th>\n",
              "      <th>Текущий прогноз</th>\n",
              "    </tr>\n",
              "  </thead>\n",
              "  <tbody>\n",
              "    <tr>\n",
              "      <th>Единственная почка не из-за рака</th>\n",
              "      <td>0.242042</td>\n",
              "    </tr>\n",
              "    <tr>\n",
              "      <th>Sinus</th>\n",
              "      <td>0.249855</td>\n",
              "    </tr>\n",
              "    <tr>\n",
              "      <th>темп диуреза, мл/кг/ч</th>\n",
              "      <td>0.252779</td>\n",
              "    </tr>\n",
              "    <tr>\n",
              "      <th>Срочная гистология</th>\n",
              "      <td>0.344556</td>\n",
              "    </tr>\n",
              "    <tr>\n",
              "      <th>Диурез более 2к/сутки</th>\n",
              "      <td>0.369320</td>\n",
              "    </tr>\n",
              "    <tr>\n",
              "      <th>Швы через толщу паренхимы</th>\n",
              "      <td>0.376047</td>\n",
              "    </tr>\n",
              "    <tr>\n",
              "      <th>Сохранение резецированной почки длительное</th>\n",
              "      <td>0.476448</td>\n",
              "    </tr>\n",
              "    <tr>\n",
              "      <th>Лечение рецидива</th>\n",
              "      <td>0.802374</td>\n",
              "    </tr>\n",
              "    <tr>\n",
              "      <th>мтс</th>\n",
              "      <td>0.838403</td>\n",
              "    </tr>\n",
              "    <tr>\n",
              "      <th>эффект лечения рецидива</th>\n",
              "      <td>0.845464</td>\n",
              "    </tr>\n",
              "    <tr>\n",
              "      <th>системное лечение</th>\n",
              "      <td>0.851742</td>\n",
              "    </tr>\n",
              "    <tr>\n",
              "      <th>вид рецидива</th>\n",
              "      <td>0.855215</td>\n",
              "    </tr>\n",
              "    <tr>\n",
              "      <th>местный</th>\n",
              "      <td>0.881270</td>\n",
              "    </tr>\n",
              "    <tr>\n",
              "      <th>Рецидив</th>\n",
              "      <td>0.887012</td>\n",
              "    </tr>\n",
              "    <tr>\n",
              "      <th>Текущий прогноз</th>\n",
              "      <td>1.000000</td>\n",
              "    </tr>\n",
              "  </tbody>\n",
              "</table>\n",
              "</div>\n",
              "      <button class=\"colab-df-convert\" onclick=\"convertToInteractive('df-7af15fed-e57b-4169-8952-7301f163bc6f')\"\n",
              "              title=\"Convert this dataframe to an interactive table.\"\n",
              "              style=\"display:none;\">\n",
              "        \n",
              "  <svg xmlns=\"http://www.w3.org/2000/svg\" height=\"24px\"viewBox=\"0 0 24 24\"\n",
              "       width=\"24px\">\n",
              "    <path d=\"M0 0h24v24H0V0z\" fill=\"none\"/>\n",
              "    <path d=\"M18.56 5.44l.94 2.06.94-2.06 2.06-.94-2.06-.94-.94-2.06-.94 2.06-2.06.94zm-11 1L8.5 8.5l.94-2.06 2.06-.94-2.06-.94L8.5 2.5l-.94 2.06-2.06.94zm10 10l.94 2.06.94-2.06 2.06-.94-2.06-.94-.94-2.06-.94 2.06-2.06.94z\"/><path d=\"M17.41 7.96l-1.37-1.37c-.4-.4-.92-.59-1.43-.59-.52 0-1.04.2-1.43.59L10.3 9.45l-7.72 7.72c-.78.78-.78 2.05 0 2.83L4 21.41c.39.39.9.59 1.41.59.51 0 1.02-.2 1.41-.59l7.78-7.78 2.81-2.81c.8-.78.8-2.07 0-2.86zM5.41 20L4 18.59l7.72-7.72 1.47 1.35L5.41 20z\"/>\n",
              "  </svg>\n",
              "      </button>\n",
              "      \n",
              "  <style>\n",
              "    .colab-df-container {\n",
              "      display:flex;\n",
              "      flex-wrap:wrap;\n",
              "      gap: 12px;\n",
              "    }\n",
              "\n",
              "    .colab-df-convert {\n",
              "      background-color: #E8F0FE;\n",
              "      border: none;\n",
              "      border-radius: 50%;\n",
              "      cursor: pointer;\n",
              "      display: none;\n",
              "      fill: #1967D2;\n",
              "      height: 32px;\n",
              "      padding: 0 0 0 0;\n",
              "      width: 32px;\n",
              "    }\n",
              "\n",
              "    .colab-df-convert:hover {\n",
              "      background-color: #E2EBFA;\n",
              "      box-shadow: 0px 1px 2px rgba(60, 64, 67, 0.3), 0px 1px 3px 1px rgba(60, 64, 67, 0.15);\n",
              "      fill: #174EA6;\n",
              "    }\n",
              "\n",
              "    [theme=dark] .colab-df-convert {\n",
              "      background-color: #3B4455;\n",
              "      fill: #D2E3FC;\n",
              "    }\n",
              "\n",
              "    [theme=dark] .colab-df-convert:hover {\n",
              "      background-color: #434B5C;\n",
              "      box-shadow: 0px 1px 3px 1px rgba(0, 0, 0, 0.15);\n",
              "      filter: drop-shadow(0px 1px 2px rgba(0, 0, 0, 0.3));\n",
              "      fill: #FFFFFF;\n",
              "    }\n",
              "  </style>\n",
              "\n",
              "      <script>\n",
              "        const buttonEl =\n",
              "          document.querySelector('#df-7af15fed-e57b-4169-8952-7301f163bc6f button.colab-df-convert');\n",
              "        buttonEl.style.display =\n",
              "          google.colab.kernel.accessAllowed ? 'block' : 'none';\n",
              "\n",
              "        async function convertToInteractive(key) {\n",
              "          const element = document.querySelector('#df-7af15fed-e57b-4169-8952-7301f163bc6f');\n",
              "          const dataTable =\n",
              "            await google.colab.kernel.invokeFunction('convertToInteractive',\n",
              "                                                     [key], {});\n",
              "          if (!dataTable) return;\n",
              "\n",
              "          const docLinkHtml = 'Like what you see? Visit the ' +\n",
              "            '<a target=\"_blank\" href=https://colab.research.google.com/notebooks/data_table.ipynb>data table notebook</a>'\n",
              "            + ' to learn more about interactive tables.';\n",
              "          element.innerHTML = '';\n",
              "          dataTable['output_type'] = 'display_data';\n",
              "          await google.colab.output.renderOutput(dataTable, element);\n",
              "          const docLink = document.createElement('div');\n",
              "          docLink.innerHTML = docLinkHtml;\n",
              "          element.appendChild(docLink);\n",
              "        }\n",
              "      </script>\n",
              "    </div>\n",
              "  </div>\n",
              "  "
            ]
          },
          "metadata": {},
          "execution_count": 16
        }
      ]
    },
    {
      "cell_type": "markdown",
      "source": [
        "Как можно заметить, корреляция последних столбцов сильно увеличилась после обработки данных."
      ],
      "metadata": {
        "id": "cg-wQtlGrtAH"
      }
    },
    {
      "cell_type": "markdown",
      "source": [
        "# Построение моделей\n",
        "\n",
        "В этом разделе мы строим несколько моделей и анализируем их работу при разном количесве столбцов. "
      ],
      "metadata": {
        "id": "nHg4rE5ktn6a"
      }
    },
    {
      "cell_type": "code",
      "source": [
        "def get_clear_df(n_features_head, n_features_tail):\n",
        "  \"\"\"Фунция, возвращающая DataFrame с n_features_head колонками с максимальной \n",
        "  отрицательной корреляцией и n_features_tail с максимальной положительной корреляцией\"\"\"\n",
        "  corr = df.corr()['Текущий прогноз']\n",
        "  corr.sort_values()\n",
        "  corr_df = pd.DataFrame(corr.sort_values())\n",
        "\n",
        "  inf_cols = corr_df.head(n_features_head).index.tolist() + corr_df.tail(n_features_tail+1).index.tolist()\n",
        "\n",
        "  return df[inf_cols].fillna(-1)"
      ],
      "metadata": {
        "id": "tTzqZx8wI9Pf"
      },
      "execution_count": 17,
      "outputs": []
    },
    {
      "cell_type": "code",
      "source": [
        "from pandas.core.dtypes.common import needs_i8_conversion\n",
        "from sklearn.cluster import KMeans, SpectralClustering, AgglomerativeClustering\n",
        "from sklearn.metrics import balanced_accuracy_score\n",
        "\n",
        "def k_means(x_train, n_clusters):\n",
        "  \"\"\"Алгоритм к-средних\"\"\"\n",
        "  model = KMeans(n_clusters=n_clusters, random_state=42, n_init=1000, init='random')\n",
        "  model.fit(x_train)\n",
        "  # print(model.cluster_centers_)\n",
        "  return model\n",
        "\n",
        "def spectral(x_train, n_clusters):\n",
        "  \"\"\"Спектральная кластеризация\"\"\"\n",
        "  model = SpectralClustering(n_clusters=n_clusters,\n",
        "          assign_labels='discretize',\n",
        "          random_state=42)\n",
        "  model.fit(x_train)\n",
        "  return model\n",
        "\n",
        "def hierarchical(x_train, n_clusters):\n",
        "  \"\"\"Иерархическая кластеризаця\"\"\"\n",
        "  model = AgglomerativeClustering(n_clusters=n_clusters, affinity='euclidean', linkage='complete')\n",
        "  model.fit(x_train)\n",
        "  return model"
      ],
      "metadata": {
        "id": "X5YpPNY_GBT7"
      },
      "execution_count": 18,
      "outputs": []
    },
    {
      "cell_type": "code",
      "source": [
        "def clustering_result(x_train, y_train, n_clusters = 3):\n",
        "  kmeans_model = k_means(x_train, n_clusters)\n",
        "  spectral_model = spectral(x_train, n_clusters)\n",
        "  hierarchical_model = hierarchical(x_train, n_clusters)\n",
        "  return {'k_means' : balanced_accuracy_score(kmeans_model.labels_.astype(int), y_train),\n",
        "          'spectral' : balanced_accuracy_score(spectral_model.labels_.astype(int), y_train),\n",
        "          'hierarchical' : balanced_accuracy_score(hierarchical_model.labels_.astype(int), y_train)}"
      ],
      "metadata": {
        "id": "LOfDlHCxIzSR"
      },
      "execution_count": 19,
      "outputs": []
    },
    {
      "cell_type": "markdown",
      "source": [
        "Нам нужно было как-то выбрать самые информативные колонки, чтобы использовать их значения в моделях кластеризации. \n",
        "У нас возникла идея ввести 2 гиперпараметра: количество колонок с максимальной положительной корреляцией, и с максимальной(по модулю) отрицательной корреляцией."
      ],
      "metadata": {
        "id": "K9boHuzjwUH_"
      }
    },
    {
      "cell_type": "code",
      "source": [
        "from sklearn import preprocessing\n",
        "\n",
        "clear_df = get_clear_df(10, 10)\n",
        "train = preprocessing.normalize(clear_df.drop(['Текущий прогноз'], axis=1))\n",
        "ans = clear_df['Текущий прогноз']\n",
        "\n",
        "clustering_result(train, ans, n_clusters=3)"
      ],
      "metadata": {
        "colab": {
          "base_uri": "https://localhost:8080/"
        },
        "id": "45HAjVkkJL8L",
        "outputId": "edb21e42-3376-43c1-c38d-1305863f2521"
      },
      "execution_count": 20,
      "outputs": [
        {
          "output_type": "execute_result",
          "data": {
            "text/plain": [
              "{'hierarchical': 0.9371209188282359,\n",
              " 'k_means': 0.014035087719298246,\n",
              " 'spectral': 0.3058060356423887}"
            ]
          },
          "metadata": {},
          "execution_count": 20
        }
      ]
    },
    {
      "cell_type": "markdown",
      "source": [
        "Для большого количества колонок результаты получались не очень. Поэтому мы решили запустить перебор по сетке параметров, и вывести heatmap."
      ],
      "metadata": {
        "id": "FB7Tb6xwyDij"
      }
    },
    {
      "cell_type": "code",
      "source": [
        "grid = []\n",
        "for i in range(0,10):#10\n",
        "  grid_n = []\n",
        "  for j in range(0,11):#11\n",
        "    clear_df = get_clear_df(i, j+1)\n",
        "    train = preprocessing.normalize(clear_df.drop(['Текущий прогноз'], axis=1))\n",
        "    ans = clear_df['Текущий прогноз']\n",
        "    grid_n.append(clustering_result(train, ans, n_clusters=3))\n",
        "  grid.append(grid_n)\n",
        "\n",
        "k_means_matrix = [[0 for j in range(11)] for i in range(10)]\n",
        "spectral_matrix = [[0 for j in range(11)] for i in range(10)]\n",
        "hierarchical_matrix = [[0 for j in range(11)] for i in range(10)]\n",
        "for i in range(10):\n",
        "  for j in range(11):\n",
        "    k_means_matrix[i][j] = grid[i][j]['k_means']\n",
        "    spectral_matrix[i][j] = grid[i][j]['spectral']\n",
        "    hierarchical_matrix[i][j] = grid[i][j]['hierarchical']"
      ],
      "metadata": {
        "id": "co6TEaN3N0cE",
        "colab": {
          "base_uri": "https://localhost:8080/"
        },
        "outputId": "845a53b8-8a84-4b30-a84e-092658707474"
      },
      "execution_count": 21,
      "outputs": [
        {
          "output_type": "stream",
          "name": "stderr",
          "text": [
            "/usr/local/lib/python3.7/dist-packages/ipykernel_launcher.py:8: ConvergenceWarning: Number of distinct clusters (2) found smaller than n_clusters (3). Possibly due to duplicate points in X.\n",
            "  \n",
            "/usr/local/lib/python3.7/dist-packages/sklearn/metrics/_classification.py:1987: UserWarning: y_pred contains classes not in y_true\n",
            "  warnings.warn(\"y_pred contains classes not in y_true\")\n"
          ]
        }
      ]
    },
    {
      "cell_type": "code",
      "source": [
        "import seaborn as sns\n",
        "\n",
        "sns.heatmap(k_means_matrix, annot=True)"
      ],
      "metadata": {
        "colab": {
          "base_uri": "https://localhost:8080/",
          "height": 282
        },
        "id": "XhhuNRF6UAA7",
        "outputId": "24a80e6b-7ad8-4947-c599-d85ecb88f23d"
      },
      "execution_count": 22,
      "outputs": [
        {
          "output_type": "execute_result",
          "data": {
            "text/plain": [
              "<matplotlib.axes._subplots.AxesSubplot at 0x7f1690f5b4d0>"
            ]
          },
          "metadata": {},
          "execution_count": 22
        },
        {
          "output_type": "display_data",
          "data": {
            "text/plain": [
              "<Figure size 432x288 with 2 Axes>"
            ],
            "image/png": "[encoded data removed]"
          },
          "metadata": {
            "needs_background": "light"
          }
        }
      ]
    },
    {
      "cell_type": "code",
      "source": [
        "sns.heatmap(spectral_matrix, annot=True)"
      ],
      "metadata": {
        "colab": {
          "base_uri": "https://localhost:8080/",
          "height": 282
        },
        "id": "JYELOhXrULa6",
        "outputId": "f2766bbc-a4aa-4d07-ac0f-f2397d08375c"
      },
      "execution_count": 23,
      "outputs": [
        {
          "output_type": "execute_result",
          "data": {
            "text/plain": [
              "<matplotlib.axes._subplots.AxesSubplot at 0x7f1690da4090>"
            ]
          },
          "metadata": {},
          "execution_count": 23
        },
        {
          "output_type": "display_data",
          "data": {
            "text/plain": [
              "<Figure size 432x288 with 2 Axes>"
            ],
            "image/png": "[encoded data removed]"
          },
          "metadata": {
            "needs_background": "light"
          }
        }
      ]
    },
    {
      "cell_type": "code",
      "source": [
        "sns.heatmap(hierarchical_matrix, annot=True)"
      ],
      "metadata": {
        "colab": {
          "base_uri": "https://localhost:8080/",
          "height": 282
        },
        "id": "3o4qxowgUVXy",
        "outputId": "40a657de-25ad-417f-e494-a3e260ccbf01"
      },
      "execution_count": 24,
      "outputs": [
        {
          "output_type": "execute_result",
          "data": {
            "text/plain": [
              "<matplotlib.axes._subplots.AxesSubplot at 0x7f1690bbeb50>"
            ]
          },
          "metadata": {},
          "execution_count": 24
        },
        {
          "output_type": "display_data",
          "data": {
            "text/plain": [
              "<Figure size 432x288 with 2 Axes>"
            ],
            "image/png": "[encoded data removed]"
          },
          "metadata": {
            "needs_background": "light"
          }
        }
      ]
    },
    {
      "cell_type": "markdown",
      "source": [
        "Как можно заметить, лучший результат дала иерархическая кластеризация при параметрах от (4,5) до (10,9)"
      ],
      "metadata": {
        "id": "ikFGCDgE6pfL"
      }
    },
    {
      "cell_type": "code",
      "source": [
        "clear_df = get_clear_df(9, 11)\n",
        "train = preprocessing.normalize(clear_df.drop(['Текущий прогноз'], axis=1))\n",
        "ans = clear_df['Текущий прогноз']\n",
        "\n",
        "hierarchical_model = hierarchical(train,3)\n",
        "\n",
        "hierarchical_accuracy = balanced_accuracy_score(hierarchical_model.labels_.astype(int), ans)\n",
        "hierarchical_accuracy"
      ],
      "metadata": {
        "id": "UMUO0Pc9WpgT",
        "colab": {
          "base_uri": "https://localhost:8080/"
        },
        "outputId": "10d0c535-4544-40c4-dede-c82b76a4d326"
      },
      "execution_count": 25,
      "outputs": [
        {
          "output_type": "execute_result",
          "data": {
            "text/plain": [
              "0.950348432055749"
            ]
          },
          "metadata": {},
          "execution_count": 25
        }
      ]
    },
    {
      "cell_type": "code",
      "source": [
        "import pickle\n",
        "# сохранение модели\n",
        "\n",
        "save_path = f'hierarchical_model_acc:{hierarchical_accuracy}.pkl'\n",
        "with open(save_path, 'wb') as file:\n",
        "  pickle.dump(hierarchical_model, file)"
      ],
      "metadata": {
        "id": "vADMGfDI8klT"
      },
      "execution_count": 26,
      "outputs": []
    },
    {
      "cell_type": "markdown",
      "source": [
        "# Некая эвристика"
      ],
      "metadata": {
        "id": "fo1f-7k2blt9"
      }
    },
    {
      "cell_type": "markdown",
      "source": [
        "В данных присутствует ошибка, а именно: в нулевом классе(живых людей без рецидива) есть записи, в которых значение столбца 'Рецидив' ненулевое. Поэтому для визуализации мы исправим эти ошибки."
      ],
      "metadata": {
        "id": "oFkU3snDpwrK"
      }
    },
    {
      "cell_type": "code",
      "source": [
        "new_df = df.copy()\n",
        "new_df.loc[(new_df['Рецидив'] == 1) & (new_df['Текущий прогноз'] == 0) ,'Текущий прогноз'] = 2"
      ],
      "metadata": {
        "id": "adpU4618pwBB"
      },
      "execution_count": 27,
      "outputs": []
    },
    {
      "cell_type": "markdown",
      "source": [
        "Мы также отдельно анализировали влияние разных фичей на таргет, и нашли очень интересную зависимость"
      ],
      "metadata": {
        "id": "NeVAkCQRbtAr"
      }
    },
    {
      "cell_type": "markdown",
      "source": [
        "Можно заметить, что признак 'Рецидив' сильно влияет на выживаемость. В train выборке всего лишь один человек, который умер без рецидива."
      ],
      "metadata": {
        "id": "UvYD__ah7x3t"
      }
    },
    {
      "cell_type": "code",
      "source": [
        "\n",
        "\n",
        "new_df['Количество людей'] = np.ones(len(new_df)) # небольшой костыль для графиков :)\n",
        "\n",
        "plt.figure(figsize=(10,7))\n",
        "ax = sns.barplot(x=\"Текущий прогноз\", y=\"Количество людей\", hue='Рецидив', data=new_df, estimator=sum)"
      ],
      "metadata": {
        "colab": {
          "base_uri": "https://localhost:8080/",
          "height": 442
        },
        "id": "2Qyp6OrbdIC7",
        "outputId": "9bcd4def-3f7d-4e73-bde6-df964aa982f4"
      },
      "execution_count": 28,
      "outputs": [
        {
          "output_type": "display_data",
          "data": {
            "text/plain": [
              "<Figure size 720x504 with 1 Axes>"
            ],
            "image/png": "[encoded data removed]"
          },
          "metadata": {
            "needs_background": "light"
          }
        }
      ]
    },
    {
      "cell_type": "markdown",
      "source": [
        "Далее мы рассмотрели показатель 'диурез в сутки'. Оказалось, что из 73 умерших людей, у 72 был диурез в сутки, более, чем 2 тысячи. А из 186 живых людей всего у 28 был повышенный диурез."
      ],
      "metadata": {
        "id": "m_TQSNbW7vYV"
      }
    },
    {
      "cell_type": "code",
      "source": [
        "new_df['Диурез более 2к/сутки'] = (new_df['диурез, сутки'] >= 2000).astype(int)\n",
        "\n",
        "plt.figure(figsize=(10,7))\n",
        "ax = sns.barplot(x=\"Текущий прогноз\", y=\"Количество людей\",\n",
        "                 hue='Диурез более 2к/сутки', data=new_df.loc[new_df['Рецидив'] == 1,:], estimator=sum)"
      ],
      "metadata": {
        "colab": {
          "base_uri": "https://localhost:8080/",
          "height": 442
        },
        "id": "hTEUNix0csqM",
        "outputId": "3ba3d215-761e-4a11-c8e2-28436047df50"
      },
      "execution_count": 29,
      "outputs": [
        {
          "output_type": "display_data",
          "data": {
            "text/plain": [
              "<Figure size 720x504 with 1 Axes>"
            ],
            "image/png": "[encoded data removed]"
          },
          "metadata": {
            "needs_background": "light"
          }
        }
      ]
    },
    {
      "cell_type": "code",
      "source": [
        "new_df[new_df['Диурез более 2к/сутки'] == 1]['Текущий прогноз'].value_counts()"
      ],
      "metadata": {
        "colab": {
          "base_uri": "https://localhost:8080/"
        },
        "id": "K8XhxhY4oxWP",
        "outputId": "8bfd6481-4459-4431-ea4d-dc4e0dd3d5fc"
      },
      "execution_count": 30,
      "outputs": [
        {
          "output_type": "execute_result",
          "data": {
            "text/plain": [
              "1    72\n",
              "0    28\n",
              "Name: Текущий прогноз, dtype: int64"
            ]
          },
          "metadata": {},
          "execution_count": 30
        }
      ]
    },
    {
      "cell_type": "code",
      "source": [
        "new_df['Текущий прогноз'].value_counts()"
      ],
      "metadata": {
        "colab": {
          "base_uri": "https://localhost:8080/"
        },
        "id": "fey3Zre0pLpf",
        "outputId": "3b88b29b-e4c3-47ef-f9ce-37817a5a6959"
      },
      "execution_count": 31,
      "outputs": [
        {
          "output_type": "execute_result",
          "data": {
            "text/plain": [
              "0    163\n",
              "1     73\n",
              "2     23\n",
              "Name: Текущий прогноз, dtype: int64"
            ]
          },
          "metadata": {},
          "execution_count": 31
        }
      ]
    },
    {
      "cell_type": "markdown",
      "source": [
        "Далее мы, основываясь на зависимостях полученные выше, попробуем сделаем предсказание для train данных \"руками\".\n",
        "Если конкретно, то у нас получились такие условия:\n",
        "*   Если есть рецидив, и при этом диурёз в сутки >= 2000, человек умер (класс 1)\n",
        "*   Если есть рецидив, и при этом значение диурёза не измерялось, то человек выжил с рецдивом (класс 2)\n",
        "*   Остальные люди выжили без рецидива (класс 0)"
      ],
      "metadata": {
        "id": "BXbIm9HQrOdN"
      }
    },
    {
      "cell_type": "code",
      "source": [
        "def make_heuristic_predict(data):\n",
        "  predictions = pd.DataFrame([0] * len(data), columns = ['Predictions'])\n",
        "  predictions.loc[(data['Рецидив'] == 1) & (data['диурез, сутки'] >= 2000), 'Predictions'] = 1\n",
        "  predictions.loc[(data['Рецидив'] == 1) & (df['диурез, сутки'] == 0), 'Predictions'] = 2\n",
        "  return predictions['Predictions']"
      ],
      "metadata": {
        "id": "RCMNvD_Nmv0P"
      },
      "execution_count": 32,
      "outputs": []
    },
    {
      "cell_type": "code",
      "source": [
        "balanced_accuracy_score(make_heuristic_predict(df), df['Текущий прогноз'])"
      ],
      "metadata": {
        "colab": {
          "base_uri": "https://localhost:8080/"
        },
        "id": "rBqk4J_0r5W_",
        "outputId": "8814b0e2-1dd7-42f8-cf74-ac1e8c0cff2f"
      },
      "execution_count": 33,
      "outputs": [
        {
          "output_type": "execute_result",
          "data": {
            "text/plain": [
              "0.9813373253493015"
            ]
          },
          "metadata": {},
          "execution_count": 33
        }
      ]
    },
    {
      "cell_type": "markdown",
      "source": [
        "На наше удивление, результаты получились лучше, чем у иерархической кластеризации, поэтому для итогового предикта будем использовать данный подход. (предикт делается в другом ноутбуке)"
      ],
      "metadata": {
        "id": "JxHf_-FbsJtk"
      }
    }
  ]
}