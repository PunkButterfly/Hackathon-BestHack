{
  "nbformat": 4,
  "nbformat_minor": 0,
  "metadata": {
    "colab": {
      "name": "TVNeuroTechnologies.ipynb",
      "provenance": [],
      "collapsed_sections": []
    },
    "kernelspec": {
      "name": "python3",
      "display_name": "Python 3"
    },
    "language_info": {
      "name": "python"
    },
    "accelerator": "GPU"
  },
  "cells": [
    {
      "cell_type": "code",
      "source": [
        "!unzip /content/drive/MyDrive/classification-of-short-noisy-audio-speech.zip"
      ],
      "metadata": {
        "id": "Wr3ZEnHDVAim"
      },
      "execution_count": null,
      "outputs": []
    },
    {
      "cell_type": "code",
      "source": [
        "!unzip /content/drive/MyDrive/filtered_classification-of-short-noisy-audio-speech.zip"
      ],
      "metadata": {
        "id": "mxoMtenYuPHB"
      },
      "execution_count": null,
      "outputs": []
    },
    {
      "cell_type": "code",
      "source": [
        "!pip install python_speech_features"
      ],
      "metadata": {
        "id": "p_hxtKdPP05V",
        "colab": {
          "base_uri": "https://localhost:8080/"
        },
        "outputId": "fc498816-2100-4c15-c853-6c6189ad25df"
      },
      "execution_count": null,
      "outputs": [
        {
          "output_type": "stream",
          "name": "stdout",
          "text": [
            "Collecting python_speech_features\n",
            "  Downloading python_speech_features-0.6.tar.gz (5.6 kB)\n",
            "Building wheels for collected packages: python-speech-features\n",
            "  Building wheel for python-speech-features (setup.py) ... \u001b[?25l\u001b[?25hdone\n",
            "  Created wheel for python-speech-features: filename=python_speech_features-0.6-py3-none-any.whl size=5888 sha256=f5b64e6218b0828c10ea9defa02100cddebfb1697e16ddd7d2cbab0c93c3dc7a\n",
            "  Stored in directory: /root/.cache/pip/wheels/b0/0e/94/28cd6afa3cd5998a63eef99fe31777acd7d758f59cf24839eb\n",
            "Successfully built python-speech-features\n",
            "Installing collected packages: python-speech-features\n",
            "Successfully installed python-speech-features-0.6\n"
          ]
        }
      ]
    },
    {
      "cell_type": "code",
      "source": [
        "!pip install noisereduce"
      ],
      "metadata": {
        "id": "UlsthD8KKJVa"
      },
      "execution_count": null,
      "outputs": []
    },
    {
      "cell_type": "code",
      "source": [
        "!pip install pydub"
      ],
      "metadata": {
        "id": "XmjYjRoYUCmM"
      },
      "execution_count": null,
      "outputs": []
    },
    {
      "cell_type": "code",
      "source": [
        "import numpy as np # linear algebra\n",
        "import pandas as pd # data processing, CSV file I/O (e.g. pd.read_csv)\n",
        "import os\n",
        "\n",
        "\n",
        "from tensorflow import keras\n",
        "from python_speech_features import mfcc\n",
        "from python_speech_features import delta\n",
        "from python_speech_features import logfbank\n",
        "from random import randint\n",
        "import scipy.io.wavfile as wav\n",
        "import numpy as np\n",
        "from keras import backend as K\n",
        "from keras.layers import Activation\n",
        "from keras.layers import Input, Lambda, Dense, Dropout, Convolution2D, MaxPooling2D, Flatten\n",
        "from keras.models import Sequential, Model, load_model\n",
        "from keras.callbacks import ModelCheckpoint, EarlyStopping\n",
        "from sklearn.model_selection import train_test_split\n",
        "from tqdm import tqdm\n",
        "import noisereduce as nr\n",
        "from pydub import AudioSegment as am"
      ],
      "metadata": {
        "id": "bDPJgqQ8PiKL"
      },
      "execution_count": null,
      "outputs": []
    },
    {
      "cell_type": "markdown",
      "source": [
        "### Зашумление уже обработанных \"чистых данных\""
      ],
      "metadata": {
        "id": "r20IJpxiWdrs"
      }
    },
    {
      "cell_type": "code",
      "source": [
        "noises = []\n",
        "for filename in os.listdir('/content/hackaton_ds/noises'):\n",
        "    sound = am.from_file('/content/hackaton_ds/noises/'+filename, format='wav')\n",
        "    sound = sound.set_frame_rate(16000)\n",
        "    sound = sound.set_channels(1)\n",
        "    sound.export('file_trim_5s.wav', format='wav')  \n",
        "    \n",
        "    (rate,sig) = wav.read('file_trim_5s.wav')\n",
        "    # print(rate)\n",
        "    # print(sig)\n",
        "    # print(np.max(sig))\n",
        "    noises.append(sig)"
      ],
      "metadata": {
        "id": "a91jEg37TmQN"
      },
      "execution_count": null,
      "outputs": []
    },
    {
      "cell_type": "code",
      "source": [
        "def make_some_noise(clean):\n",
        "    max_amp = 1 - np.random.random() / 3\n",
        "    noise = noises[np.random.randint(0, len(noises))]\n",
        "    noise_amp = np.random.rand() * max_amp\n",
        "    max_start = len(noise) - len(clean)\n",
        "    start = np.random.randint(0, max_start + 1)\n",
        "    noise_part = noise[start:start+len(clean)]\n",
        "    noise_mult = np.abs(clean.max()) / np.abs(noise_part).max() * noise_amp\n",
        "    return (clean + noise_part * noise_mult) / (1 + noise_amp)\n",
        "\n"
      ],
      "metadata": {
        "id": "bZijeUfRTCFF"
      },
      "execution_count": null,
      "outputs": []
    },
    {
      "cell_type": "code",
      "source": [
        "types = ['down', 'go', 'left', 'no', 'off', 'on', 'right', 'stop', 'up', 'yes']\n",
        "\n",
        "repeats = 8\n",
        "\n",
        "datasize = 38546*repeats\n",
        "\n",
        "X = np.zeros( (datasize, 99, 13), dtype=\"float32\") \n",
        "Y = np.zeros( (datasize), dtype=\"int8\") \n",
        "\n",
        "cnt = 0\n",
        "\n",
        "dir = '/content/filtered/train/'\n",
        "\n",
        "for i, word in enumerate(types):\n",
        "  for filename in os.listdir(word):\n",
        "    (rate,sig) = wav.read(dir+word+\"/\"+filename)\n",
        "    l = len(sig)\n",
        "    if l > 16000:\n",
        "        sig = sig[:16000]\n",
        "    elif l<16000:\n",
        "        sig = np.pad(sig, (0, 16000-l), 'constant')\n",
        "\n",
        "    for j in range(repeats):\n",
        "      msk = make_some_noise(sig).astype('int16')\n",
        "      cur = mfcc(msk,rate)\n",
        "      \n",
        "      X[cnt] = cur\n",
        "      Y[cnt] = i\n",
        "      cnt+=1\n"
      ],
      "metadata": {
        "id": "BWIHAQ8VTFOc"
      },
      "execution_count": null,
      "outputs": []
    },
    {
      "cell_type": "markdown",
      "source": [
        "### Подготовка для обучения модели"
      ],
      "metadata": {
        "id": "S1aDM7rUWkEm"
      }
    },
    {
      "cell_type": "code",
      "source": [
        "X = X.reshape(len(X), 99, 13, 1)\n",
        "Y = Y.reshape(len(Y), 1)\n",
        " \n",
        "x_train, x_test, y_train, y_test = train_test_split(\n",
        "                                        X, Y,\n",
        "                                        test_size=0.2,\n",
        "                                        random_state=42,\n",
        "                                    )\n",
        "\n",
        "num_classes = 10\n",
        "input_shape = (99, 13, 1)\n",
        "\n",
        "# convert class vectors to binary class matrices\n",
        "y_train = keras.utils.to_categorical(y_train, num_classes)\n",
        "y_test = keras.utils.to_categorical(y_test, num_classes)"
      ],
      "metadata": {
        "id": "4voARpPxQIrp"
      },
      "execution_count": null,
      "outputs": []
    },
    {
      "cell_type": "markdown",
      "source": [
        "### Архитектура модели"
      ],
      "metadata": {
        "id": "7r6bP8y-WmoO"
      }
    },
    {
      "cell_type": "code",
      "source": [
        "model = keras.Sequential(\n",
        "    [\n",
        "        keras.Input(shape=input_shape),\n",
        "        layers.BatchNormalization(),\n",
        "        layers.Conv2D(64, kernel_size=(3, 3), activation=\"relu\", padding = 'same'),\n",
        "        layers.Conv2D(64, kernel_size=(3, 3), activation=\"relu\", padding = 'same', strides = (2,2)),\n",
        "        layers.Conv2D(128, kernel_size=(3, 3), activation=\"relu\", padding = 'same'),\n",
        "        layers.Conv2D(128, kernel_size=(3, 3), activation=\"relu\", padding = 'same', strides = (2,2)),\n",
        "        layers.Conv2D(256, kernel_size=(3, 3), activation=\"relu\", padding = 'same'),\n",
        "        layers.Conv2D(256, kernel_size=(3, 3), activation=\"relu\", padding = 'same', strides = (2,2)),\n",
        "        layers.Conv2D(512, kernel_size=(3, 3), activation=\"relu\", padding = 'same'),\n",
        "        layers.Conv2D(256, kernel_size=(3, 3), activation=\"relu\", padding = 'same'),\n",
        "        layers.Conv2D(128, kernel_size=(3, 3), activation=\"relu\", padding = 'same'),\n",
        "        layers.Flatten(),\n",
        "        layers.BatchNormalization(),\n",
        "        layers.Dense(256,activation=\"relu\"),\n",
        "        layers.Dropout(0.1),\n",
        "        layers.Dense(num_classes, activation=\"softmax\"),\n",
        "    ]\n",
        ")\n",
        " \n",
        " \n",
        "model.summary()"
      ],
      "metadata": {
        "id": "LHKYJ3YSWaon"
      },
      "execution_count": null,
      "outputs": []
    },
    {
      "cell_type": "markdown",
      "source": [
        "### Обучение модели"
      ],
      "metadata": {
        "id": "t6SyCREOWpyx"
      }
    },
    {
      "cell_type": "code",
      "source": [
        "from keras.callbacks import ReduceLROnPlateau\n",
        "\n",
        "batch_size = 256\n",
        "epochs = 200\n",
        "\n",
        "model.compile(loss=\"categorical_crossentropy\", optimizer=\"adam\", metrics=[\"accuracy\"])\n",
        "\n",
        "checkpoint_filepath = 'weights.{epoch:02d}-{val_accuracy:.4f}.h5'\n",
        "mcp_save = ModelCheckpoint(filepath=checkpoint_filepath, save_best_only=True, monitor='val_accuracy', mode='max')\n",
        "#earlyStopping = EarlyStopping(monitor='val_loss', patience=10, verbose=0, mode='min')\n",
        "\n",
        "history = model.fit(x_train, y_train, batch_size=batch_size, callbacks = [mcp_save],  epochs=epochs, validation_split=0.1)"
      ],
      "metadata": {
        "id": "WF3DACnwPi12"
      },
      "execution_count": null,
      "outputs": []
    },
    {
      "cell_type": "code",
      "source": [
        "print(history.history.keys())"
      ],
      "metadata": {
        "colab": {
          "base_uri": "https://localhost:8080/"
        },
        "id": "WP03sXXvwp-n",
        "outputId": "3ce3ca8c-0769-49f1-d9cd-d88a120eeeb7"
      },
      "execution_count": null,
      "outputs": [
        {
          "output_type": "stream",
          "name": "stdout",
          "text": [
            "dict_keys(['loss', 'accuracy', 'val_loss', 'val_accuracy'])\n"
          ]
        }
      ]
    },
    {
      "cell_type": "code",
      "source": [
        "import matplotlib.pyplot as plt\n",
        "print(history.history.keys())\n",
        "# summarize history for accuracy\n",
        "plt.plot(history.history['accuracy'])\n",
        "plt.plot(history.history['val_accuracy'])\n",
        "plt.title('model accuracy')\n",
        "plt.ylabel('accuracy')\n",
        "plt.xlabel('epoch')\n",
        "plt.legend(['train', 'test'], loc='upper left')\n",
        "plt.show()"
      ],
      "metadata": {
        "colab": {
          "base_uri": "https://localhost:8080/",
          "height": 312
        },
        "id": "ufFp2S4zwdBW",
        "outputId": "a29d0fbc-a47e-4832-d095-46356b74726f"
      },
      "execution_count": null,
      "outputs": [
        {
          "output_type": "stream",
          "name": "stdout",
          "text": [
            "dict_keys(['loss', 'accuracy', 'val_loss', 'val_accuracy'])\n"
          ]
        },
        {
          "output_type": "display_data",
          "data": {
            "image/png": "[encoded data removed]",
            "text/plain": [
              "<Figure size 432x288 with 1 Axes>"
            ]
          },
          "metadata": {
            "needs_background": "light"
          }
        }
      ]
    },
    {
      "cell_type": "code",
      "source": [
        "model.load_weights('/content/weights_104-0_9409.h5')"
      ],
      "metadata": {
        "id": "YEQ6uQOYxEH-"
      },
      "execution_count": null,
      "outputs": []
    },
    {
      "cell_type": "code",
      "source": [
        "model.compile(loss=\"categorical_crossentropy\", optimizer=\"adam\", metrics=[\"accuracy\"])"
      ],
      "metadata": {
        "id": "uu2HLV9fJ1AB"
      },
      "execution_count": null,
      "outputs": []
    },
    {
      "cell_type": "code",
      "source": [
        "score = model.evaluate(x_test, y_test, verbose=0)\n",
        "print(\"Test loss:\", score[0])\n",
        "print(\"Test accuracy:\", score[1])"
      ],
      "metadata": {
        "colab": {
          "base_uri": "https://localhost:8080/"
        },
        "id": "CYbE0N2WKu4S",
        "outputId": "98459311-cd36-42cf-c8a6-860a6ddcbf5d"
      },
      "execution_count": null,
      "outputs": [
        {
          "output_type": "stream",
          "name": "stdout",
          "text": [
            "Test loss: 454.3836364746094\n",
            "Test accuracy: 0.9767428636550903\n"
          ]
        }
      ]
    },
    {
      "cell_type": "markdown",
      "source": [
        "### Make submission.csv\n"
      ],
      "metadata": {
        "id": "_kY7X_nVPaWh"
      }
    },
    {
      "cell_type": "code",
      "source": [
        "test_path = '/content/hackaton_ds/test/'\n",
        "test = []\n",
        "file_names = []\n",
        "\n",
        "pbar = tqdm(total=29620, position=0, leave=True)\n",
        "\n",
        "for file_name in os.listdir(test_path):\n",
        "    (rate,sig) = wav.read(test_path+file_name)\n",
        "    file_names.append(file_name)\n",
        "\n",
        "    file_mel = mfcc(sig,rate)\n",
        "\n",
        "    tmp = np.zeros((99, 13))\n",
        "    tmp[:file_mel.shape[0],:file_mel.shape[1]] = file_mel\n",
        "\n",
        "    test.append(tmp)\n",
        "    pbar.update(1)\n",
        "    pbar.set_description(f\"\\Read {len(test)} phrazes\")"
      ],
      "metadata": {
        "colab": {
          "base_uri": "https://localhost:8080/"
        },
        "id": "lURGSrxrGbR-",
        "outputId": "9e0ac426-20c3-4f67-d9f9-ea2d60f090a7"
      },
      "execution_count": null,
      "outputs": [
        {
          "output_type": "stream",
          "name": "stderr",
          "text": [
            "  0%|          | 0/29620 [00:05<?, ?it/s]\n",
            "\\Read 1974 phrazes:   7%|▋         | 1974/29620 [06:32<1:34:08,  4.89it/s]/usr/local/lib/python3.7/dist-packages/noisereduce/noisereduce.py:303: RuntimeWarning: invalid value encountered in true_divide\n",
            "  sig_mult_above_thresh = (abs_sig_stft - sig_stft_smooth) / sig_stft_smooth\n",
            "\\Read 29620 phrazes: 100%|██████████| 29620/29620 [1:34:09<00:00,  5.41it/s]"
          ]
        }
      ]
    },
    {
      "cell_type": "code",
      "source": [
        "test = np.array(test)\n",
        "test = test.reshape((len(test), 99, 13, 1))\n",
        "predictions = model.predict(test)"
      ],
      "metadata": {
        "id": "YGboELnXl8cr"
      },
      "execution_count": null,
      "outputs": []
    },
    {
      "cell_type": "code",
      "source": [
        "types = ['down', 'go', 'left', 'no', 'off', 'on', 'right', 'stop', 'up', 'yes']"
      ],
      "metadata": {
        "id": "jpnM6gjcVu1x"
      },
      "execution_count": null,
      "outputs": []
    },
    {
      "cell_type": "code",
      "source": [
        "file_names_ = ['' for i in range(len(file_names))]\n",
        "for i in range(len(file_names)):\n",
        "  file_names_[i] = file_names[i].split('.')[0]"
      ],
      "metadata": {
        "id": "i_kq9t19jIQR"
      },
      "execution_count": null,
      "outputs": []
    },
    {
      "cell_type": "code",
      "source": [
        "answer = []\n",
        "for i in np.argmax(predictions, axis = -1):\n",
        "    answer.append(types[i])"
      ],
      "metadata": {
        "id": "e_YbVXRdorhf"
      },
      "execution_count": null,
      "outputs": []
    },
    {
      "cell_type": "code",
      "source": [
        "df = pd.DataFrame({'id':file_names_, 'category':answer})\n",
        "df.to_csv('submition.csv',index=False, sep=',', encoding='utf-8')"
      ],
      "metadata": {
        "id": "yeyi-EenoZH1"
      },
      "execution_count": null,
      "outputs": []
    }
  ]
}