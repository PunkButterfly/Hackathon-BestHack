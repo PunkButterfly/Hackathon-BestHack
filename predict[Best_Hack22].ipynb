{
  "nbformat": 4,
  "nbformat_minor": 0,
  "metadata": {
    "colab": {
      "name": "predict[Best_Hack22]",
      "provenance": [],
      "collapsed_sections": []
    },
    "kernelspec": {
      "name": "python3",
      "display_name": "Python 3"
    },
    "language_info": {
      "name": "python"
    }
  },
  "cells": [
    {
      "cell_type": "code",
      "source": [
        "from google.colab import drive\n",
        "drive.mount('/content/drive')"
      ],
      "metadata": {
        "colab": {
          "base_uri": "https://localhost:8080/"
        },
        "id": "dZHm_8IUNu3p",
        "outputId": "9c637f84-3751-4250-f0af-3c677b96fd05"
      },
      "execution_count": 1,
      "outputs": [
        {
          "output_type": "stream",
          "name": "stdout",
          "text": [
            "Mounted at /content/drive\n"
          ]
        }
      ]
    },
    {
      "cell_type": "code",
      "execution_count": 2,
      "metadata": {
        "id": "-Muq-G0YQ0vI"
      },
      "outputs": [],
      "source": [
        "import pandas as pd\n",
        "import matplotlib.pyplot as plt\n",
        "import numpy as np\n",
        "from sklearn.metrics import balanced_accuracy_score, accuracy_score\n",
        "from sklearn.cluster import KMeans, SpectralClustering, AgglomerativeClustering\n",
        "from sklearn import preprocessing"
      ]
    },
    {
      "cell_type": "code",
      "source": [
        "df = pd.read_excel(\"/content/drive/MyDrive/Train_labled.xlsx\") # указываем путь до Train_labled\n",
        "test = pd.read_excel(\"/content/drive/MyDrive/Test_unlabled.xlsx\") # указываем путь до Test_unlabled"
      ],
      "metadata": {
        "id": "7IgTSzFnRbd0"
      },
      "execution_count": 3,
      "outputs": []
    },
    {
      "cell_type": "code",
      "source": [
        "def process_df(original_df):\n",
        "  df = original_df.copy()\n",
        "\n",
        "  # df = df.drop(['рN', 'M','K+ max', 'эффект'], axis = 1) # удаляем неинформативные колонки\n",
        "  df.loc[(~np.isnan(df['вид рецидива'])), 'Рецидив'] = 1 # если лечили, но рецидива нет, то рецидив есть\n",
        "\n",
        "  recedive_cols = ['вид рецидива', 'мтс', 'местный', 'Лечение рецидива',\n",
        "          'системное лечение', 'эффект лечения рецидива']\n",
        "  df.loc[df['Рецидив'] == 0, recedive_cols] = -1 #заполняем nan в столбцах рецидива\n",
        "  # df = df.drop(recedive_cols, axis = 1)\n",
        "  df['Время операции'] = df['Время операции'].fillna(0) # если операции не было, то время операции = 0\n",
        "  return df"
      ],
      "metadata": {
        "id": "IFIKd93F-jBl"
      },
      "execution_count": 4,
      "outputs": []
    },
    {
      "cell_type": "markdown",
      "source": [
        "## Проверяем ещё раз accuracy на train_labled"
      ],
      "metadata": {
        "id": "ThDGosBavPwr"
      }
    },
    {
      "cell_type": "code",
      "source": [
        "def make_heuristic_predict(data):\n",
        "  predictions = pd.DataFrame([0] * len(data), columns = ['Predictions'])\n",
        "  predictions.loc[(data['Рецидив'] == 1) & (data['диурез, сутки'] >= 2000), 'Predictions'] = 1\n",
        "  predictions.loc[(data['Рецидив'] == 1) & np.isnan(df['диурез, сутки']), 'Predictions'] = 2\n",
        "  return predictions['Predictions']"
      ],
      "metadata": {
        "id": "Kd4js5L_viuj"
      },
      "execution_count": 5,
      "outputs": []
    },
    {
      "cell_type": "code",
      "source": [
        "processed_df = process_df(df)\n",
        "targets_processed_df = processed_df['Текущий прогноз']"
      ],
      "metadata": {
        "id": "PaKxGLl8_aZ9"
      },
      "execution_count": 6,
      "outputs": []
    },
    {
      "cell_type": "code",
      "source": [
        "balanced_accuracy_score(make_heuristic_predict(processed_df), targets_processed_df)"
      ],
      "metadata": {
        "colab": {
          "base_uri": "https://localhost:8080/"
        },
        "id": "uEHiK8JQOLnL",
        "outputId": "bd868417-8ce8-4685-eb29-ecd3fcb2ee65"
      },
      "execution_count": 7,
      "outputs": [
        {
          "output_type": "execute_result",
          "data": {
            "text/plain": [
              "0.9813373253493015"
            ]
          },
          "metadata": {},
          "execution_count": 7
        }
      ]
    },
    {
      "cell_type": "markdown",
      "source": [
        "## Делаем предикт на test_unlabled"
      ],
      "metadata": {
        "id": "f_uLpYTovz_R"
      }
    },
    {
      "cell_type": "code",
      "source": [
        "processed_test = process_df(test)"
      ],
      "metadata": {
        "id": "lZPRTB5Ov5Q2"
      },
      "execution_count": 8,
      "outputs": []
    },
    {
      "cell_type": "code",
      "source": [
        "test_predictions = make_heuristic_predict(processed_test).values\n",
        "test_predictions"
      ],
      "metadata": {
        "colab": {
          "base_uri": "https://localhost:8080/"
        },
        "id": "JtB8AoTIvuT4",
        "outputId": "de33fc24-5f36-4b09-c461-3f2af276f96c"
      },
      "execution_count": 9,
      "outputs": [
        {
          "output_type": "execute_result",
          "data": {
            "text/plain": [
              "array([2, 1, 0, 0, 1, 2, 0, 1, 0, 0, 1, 1, 0, 1, 0, 1, 2, 0, 0, 0, 0, 1,\n",
              "       0, 1, 1, 1, 0, 0, 0, 0, 0, 0, 0, 0, 1, 1, 0, 0, 0, 0, 1, 0, 0, 0,\n",
              "       0, 0, 1, 1, 0, 0, 0, 0, 0, 0, 0, 0, 1, 0, 0, 0, 0, 0, 0, 0, 0, 0,\n",
              "       0, 0, 0, 0, 1, 0, 0, 1, 0, 0, 0, 0, 1, 0, 0, 1, 0, 1, 0, 2, 0, 0,\n",
              "       0, 0, 1, 0, 0, 1, 0, 1, 0, 1, 0, 0, 0, 0, 0, 0, 0, 0, 1, 1, 0, 0,\n",
              "       0, 0])"
            ]
          },
          "metadata": {},
          "execution_count": 9
        }
      ]
    },
    {
      "cell_type": "code",
      "source": [
        "test['Текущий прогноз'] = test_predictions"
      ],
      "metadata": {
        "id": "GyTKwvNMwFnf"
      },
      "execution_count": 10,
      "outputs": []
    },
    {
      "cell_type": "code",
      "source": [
        "test.to_csv('Result.csv')"
      ],
      "metadata": {
        "id": "pan4wmrCxpX1"
      },
      "execution_count": 11,
      "outputs": []
    }
  ]
}